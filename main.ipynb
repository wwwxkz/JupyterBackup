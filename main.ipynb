{
 "cells": [
  {
   "cell_type": "markdown",
   "id": "3f7ba796",
   "metadata": {},
   "source": [
    "## Importing libs"
   ]
  },
  {
   "cell_type": "code",
   "execution_count": 1,
   "id": "662d101b",
   "metadata": {},
   "outputs": [],
   "source": [
    "import pandas as pd\n",
    "from matplotlib import pyplot as plt"
   ]
  },
  {
   "cell_type": "markdown",
   "id": "44e3ce83",
   "metadata": {},
   "source": [
    "## Get CSV"
   ]
  },
  {
   "cell_type": "code",
   "execution_count": 2,
   "id": "bc9e7554",
   "metadata": {
    "scrolled": true
   },
   "outputs": [],
   "source": [
    "df = pd.read_csv('abaixo-assinado.csv')"
   ]
  },
  {
   "cell_type": "markdown",
   "id": "622877d8",
   "metadata": {},
   "source": [
    "## Selecting 'estados' and its unique keys"
   ]
  },
  {
   "cell_type": "code",
   "execution_count": 3,
   "id": "a7d81bd7",
   "metadata": {},
   "outputs": [
    {
     "name": "stderr",
     "output_type": "stream",
     "text": [
      "\n",
      "KeyboardInterrupt\n",
      "\n"
     ]
    }
   ],
   "source": [
    "estados = list(df['estado'].unique())\n",
    "estados.pop(4)\n",
    "estados.sort()\n",
    "estados_assinaturas = df.groupby(\"estado\").count()"
   ]
  },
  {
   "cell_type": "markdown",
   "id": "a5de0cf7",
   "metadata": {},
   "source": [
    "## Creating 'estados' Bar visualization"
   ]
  },
  {
   "cell_type": "code",
   "execution_count": null,
   "id": "22692873",
   "metadata": {},
   "outputs": [],
   "source": [
    "# Figure Size\n",
    "fig, ax = plt.subplots(figsize=(12, 6))\n",
    "\n",
    "# Vertical Bar Plot\n",
    "ax.bar(estados, estados_assinaturas['id'])\n",
    "fig.suptitle('Assinaturas por Estado')\n",
    "\n",
    "# Remove axes splines\n",
    "for s in ['top', 'bottom', 'left', 'right']:\n",
    "    ax.spines[s].set_visible(False)\n",
    "\n",
    "# Remove x, y Ticks\n",
    "ax.xaxis.set_ticks_position('none')\n",
    "ax.yaxis.set_ticks_position('none')\n",
    "\n",
    "# Add legend\n",
    "legend = df['id'].count() - df['estado'].count()\n",
    "ax.legend(['Não preenchidos: ' + str(legend) + ', de ' + str(df['id'].count())])\n",
    "\n",
    "\n",
    "# Iterrating over the bars one-by-one\n",
    "for bar in ax.patches:\n",
    "    ax.annotate(format(bar.get_height(), '.0f'),\n",
    "                   (bar.get_x() + bar.get_width() / 2,\n",
    "                    bar.get_height()), ha='center', va='center',\n",
    "                   size=10, xytext=(0, 8),\n",
    "                   textcoords='offset points')\n",
    "plt.show()"
   ]
  },
  {
   "cell_type": "markdown",
   "id": "fc99defb",
   "metadata": {},
   "source": [
    "## Selecting 'municipios' and its top 20 unique keys"
   ]
  },
  {
   "cell_type": "code",
   "execution_count": null,
   "id": "f9654778",
   "metadata": {
    "scrolled": false
   },
   "outputs": [],
   "source": [
    "#municipios = list(df['municipio'].unique())\n",
    "municipios_assinaturas = df.groupby(\"municipio\").count()\n",
    "ent = municipios_assinaturas['id'].sort_values(ascending=False).head(20)\n",
    "#print(ent)\n",
    "plt.pie(ent, labels = ent.keys())\n",
    "plt.show()"
   ]
  },
  {
   "cell_type": "markdown",
   "id": "7c465288",
   "metadata": {},
   "source": [
    "## Activity by days"
   ]
  },
  {
   "cell_type": "code",
   "execution_count": null,
   "id": "c35cca70",
   "metadata": {},
   "outputs": [],
   "source": [
    "df['criado'] = pd.to_datetime(df['criado']).dt.date\n",
    "datas = df.groupby('criado').anac.count()\n",
    "#print(datas)"
   ]
  },
  {
   "cell_type": "markdown",
   "id": "5804a475",
   "metadata": {},
   "source": [
    "## Pie chart for easier visualization"
   ]
  },
  {
   "cell_type": "code",
   "execution_count": null,
   "id": "5d7128b0",
   "metadata": {},
   "outputs": [],
   "source": [
    "plt.pie(datas, labels = datas.keys())\n",
    "plt.show()"
   ]
  },
  {
   "cell_type": "markdown",
   "id": "318fc4e9",
   "metadata": {},
   "source": [
    "## Plot for trend analises and bigger data sets"
   ]
  },
  {
   "cell_type": "code",
   "execution_count": null,
   "id": "80884c40",
   "metadata": {},
   "outputs": [],
   "source": [
    "plt.style.use(\"fivethirtyeight\")\n",
    "plt.figure(figsize=(12, 10))\n",
    "plt.xlabel(\"Datas\")\n",
    "plt.ylabel(\"Assinaturas\")\n",
    "plt.title(\"Assinaturas diarias\")\n",
    "\n",
    "plt.plot(datas)\n",
    "plt.show()"
   ]
  },
  {
   "cell_type": "code",
   "execution_count": null,
   "id": "f4e6643c",
   "metadata": {},
   "outputs": [],
   "source": []
  }
 ],
 "metadata": {
  "kernelspec": {
   "display_name": "Python 3 (ipykernel)",
   "language": "python",
   "name": "python3"
  },
  "language_info": {
   "codemirror_mode": {
    "name": "ipython",
    "version": 3
   },
   "file_extension": ".py",
   "mimetype": "text/x-python",
   "name": "python",
   "nbconvert_exporter": "python",
   "pygments_lexer": "ipython3",
   "version": "3.9.12"
  }
 },
 "nbformat": 4,
 "nbformat_minor": 5
}
